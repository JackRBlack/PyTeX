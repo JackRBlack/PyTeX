{
 "cells": [
  {
   "cell_type": "markdown",
   "metadata": {},
   "source": [
    "# translate string list to latex table"
   ]
  },
  {
   "cell_type": "markdown",
   "metadata": {},
   "source": [
    "## coding"
   ]
  },
  {
   "cell_type": "code",
   "execution_count": 42,
   "metadata": {},
   "outputs": [],
   "source": [
    "def generate_head(ALIGNMENT, CAPTION = 'Table 1', LABEL = 'tab:table_1'):\n",
    "    latex_table_head = '\\\\begin{table}[H]\\n\\centering\\n'\n",
    "    latex_table_head += '\\\\caption{' + f'{CAPTION}' + '}\\n'\n",
    "    latex_table_head += '\\\\label{' + f'{LABEL}' + '}\\n'\n",
    "    latex_table_head += '\\\\begin{tabular}{' + f'{ALIGNMENT}' + '}\\n'\n",
    "    latex_table_head += '\\\\toprule\\n'\n",
    "    return latex_table_head"
   ]
  },
  {
   "cell_type": "code",
   "execution_count": 53,
   "metadata": {},
   "outputs": [],
   "source": [
    "def generate_column_name(string_list):\n",
    "    latex_table_column_name = ''\n",
    "    for C_NAME in string_list:\n",
    "        latex_table_column_name += C_NAME + ' & '\n",
    "    latex_table_column_name = latex_table_column_name[0:-2] + '\\\\\\ \\n'\n",
    "    latex_table_column_name += '\\\\midrule\\n'\n",
    "    return latex_table_column_name"
   ]
  },
  {
   "cell_type": "code",
   "execution_count": 13,
   "metadata": {},
   "outputs": [],
   "source": [
    "def generate_body(string_list):\n",
    "    latex_table_body = ''\n",
    "    for line in string_list:\n",
    "        for i in range(len(line) - 1):\n",
    "            latex_table_body = latex_table_body + line[i]\n",
    "            latex_table_body = latex_table_body + ' & '\n",
    "        latex_table_body = latex_table_body + line[-1] + ' \\\\\\ \\n'\n",
    "    return latex_table_body"
   ]
  },
  {
   "cell_type": "code",
   "execution_count": 51,
   "metadata": {},
   "outputs": [],
   "source": [
    "def generate_tail():\n",
    "    latex_table_tail = '\\\\bottomrule\\n\\\\end{tabular}\\n\\\\end{table}'\n",
    "    return latex_table_tail"
   ]
  },
  {
   "cell_type": "code",
   "execution_count": 60,
   "metadata": {},
   "outputs": [],
   "source": [
    "def generate_table(data_list, column_name_list = 'default', ALIGNMENT = 'default', CAPTION = 'Table 1', LABEL = 'tab:table_1'):\n",
    "    shape = [len(data_list), len(data_list[0])]\n",
    "    if ALIGNMENT == 'default':\n",
    "        ALIGNMENT = 'c' * shape[1]\n",
    "    if column_name_list == 'default':\n",
    "        column_name_list = ['c' + str(i + 1) for i in range(shape[1])]\n",
    "        \n",
    "    head = generate_head(ALIGNMENT, CAPTION, LABEL)\n",
    "    column_name = generate_column_name(column_name_list)\n",
    "    body = generate_body(data_list)\n",
    "    tail = generate_tail()\n",
    "    \n",
    "    table = head + column_name + body + tail\n",
    "    print(table)\n",
    "    return table"
   ]
  },
  {
   "cell_type": "markdown",
   "metadata": {},
   "source": [
    "# testing"
   ]
  },
  {
   "cell_type": "code",
   "execution_count": 65,
   "metadata": {},
   "outputs": [],
   "source": [
    "string_list = [['A', 'B', 'C'], ['D', 'E', 'F'], ['G', 'H', 'I']]\n",
    "ALIGNMENT = '|c|c|c|'\n",
    "CAPTION = 'This is a table.'\n",
    "LABEL = 'tab:table_1'"
   ]
  },
  {
   "cell_type": "code",
   "execution_count": 66,
   "metadata": {},
   "outputs": [
    {
     "name": "stdout",
     "output_type": "stream",
     "text": [
      "\\begin{table}[H]\n",
      "\\centering\n",
      "\\caption{This is a table.}\n",
      "\\label{tab:table_1}\n",
      "\\begin{tabular}{|c|c|c|}\n",
      "\\toprule\n",
      "c1 & c2 & c3 \\\\ \n",
      "\\midrule\n",
      "A & B & C \\\\ \n",
      "D & E & F \\\\ \n",
      "G & H & I \\\\ \n",
      "\\bottomrule\n",
      "\\end{tabular}\n",
      "\\end{table}\n"
     ]
    }
   ],
   "source": [
    "table = generate_table(string_list, ALIGNMENT=ALIGNMENT, CAPTION=CAPTION, LABEL=LABEL)"
   ]
  },
  {
   "cell_type": "code",
   "execution_count": null,
   "metadata": {},
   "outputs": [],
   "source": []
  }
 ],
 "metadata": {
  "kernelspec": {
   "display_name": "Python 3",
   "language": "python",
   "name": "python3"
  },
  "language_info": {
   "codemirror_mode": {
    "name": "ipython",
    "version": 3
   },
   "file_extension": ".py",
   "mimetype": "text/x-python",
   "name": "python",
   "nbconvert_exporter": "python",
   "pygments_lexer": "ipython3",
   "version": "3.7.3"
  }
 },
 "nbformat": 4,
 "nbformat_minor": 2
}
